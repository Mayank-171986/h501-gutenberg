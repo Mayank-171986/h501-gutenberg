{
 "cells": [
  {
   "cell_type": "code",
   "execution_count": 1,
   "id": "4f0ce3cd",
   "metadata": {},
   "outputs": [
    {
     "name": "stdout",
     "output_type": "stream",
     "text": [
      "\n",
      "# conda environments:\n",
      "#\n",
      "base                   C:\\Users\\gupta\\miniconda3\n",
      "star                   C:\\Users\\gupta\\miniconda3\\envs\\star\n",
      "test-env               C:\\Users\\gupta\\miniconda3\\envs\\test-env\n",
      "\n"
     ]
    }
   ],
   "source": [
    "!conda env list"
   ]
  }
 ],
 "metadata": {
  "kernelspec": {
   "display_name": "Python 3",
   "language": "python",
   "name": "python3"
  },
  "language_info": {
   "codemirror_mode": {
    "name": "ipython",
    "version": 3
   },
   "file_extension": ".py",
   "mimetype": "text/x-python",
   "name": "python",
   "nbconvert_exporter": "python",
   "pygments_lexer": "ipython3",
   "version": "3.11.9"
  }
 },
 "nbformat": 4,
 "nbformat_minor": 5
}
