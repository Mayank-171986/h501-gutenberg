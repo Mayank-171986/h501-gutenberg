{
 "cells": [
  {
   "cell_type": "code",
   "execution_count": 2,
   "id": "4f0ce3cd",
   "metadata": {},
   "outputs": [
    {
     "name": "stdout",
     "output_type": "stream",
     "text": [
      "\n",
      "# conda environments:\n",
      "#\n",
      "base                   C:\\Users\\gupta\\miniconda3\n",
      "star                   C:\\Users\\gupta\\miniconda3\\envs\\star\n",
      "test-env               C:\\Users\\gupta\\miniconda3\\envs\\test-env\n",
      "\n"
     ]
    }
   ],
   "source": [
    "!conda env list"
   ]
  },
  {
   "cell_type": "code",
   "execution_count": 1,
   "id": "218cbd38",
   "metadata": {},
   "outputs": [
    {
     "data": {
      "text/plain": [
       "['Erasmus, of Rotterdam',\n",
       " 'Li, Ya-ko',\n",
       " 'Blommaert, Willem',\n",
       " 'Aneurin',\n",
       " 'Anderson, James Drummond',\n",
       " 'Boyer, A. (Abel)',\n",
       " 'Brazil. Commissao, Exposicao internacioncal de borracha de New York, 1912',\n",
       " 'Bushnell, Curtis Clark',\n",
       " 'Carlet, Pierre',\n",
       " 'Ceynowa, Florian Stanislaw',\n",
       " 'Crayon, Geoffrey',\n",
       " 'Boethius, Anicius Manlius Severinus',\n",
       " 'Borel, Jean',\n",
       " 'Drago, Luis Maria',\n",
       " 'De Gorostiza, Manuel Eduardo',\n",
       " 'Enochs, James Bryon',\n",
       " 'Endle, S. (Sidney)',\n",
       " 'Greenfield, Gulielmus',\n",
       " 'Gurdon, Philip Richard Thornhagh',\n",
       " 'Hackluyt, Richard',\n",
       " 'Goose, Mary Susan',\n",
       " 'Hayes, Charles Frederic',\n",
       " 'Kroeh, Charles F.',\n",
       " 'Lorenc, Frantisek Vladimir',\n",
       " 'Mainwaring, C. L.',\n",
       " 'Merimee, Prosper',\n",
       " 'Mitre, Bartolome',\n",
       " 'Nodier, Jean Charles Emmanuel',\n",
       " \"O'Connor, John Charles\",\n",
       " 'Paine, Walter Lionel',\n",
       " 'Pegge, S. (Samuel)',\n",
       " 'Plautus, Marcus Accius',\n",
       " 'Poe, Edgar Allen',\n",
       " 'Racine, Jean Baptiste',\n",
       " 'Ritchie, F. (Francis)',\n",
       " 'Robida, A. (Albert)',\n",
       " 'Roessler, Erwin William Eugene',\n",
       " 'Sallustius Crispus, Gaius',\n",
       " 'Sayer, Geo. J.',\n",
       " 'Scheepstra, Hendericus',\n",
       " 'Stallman, Richard M.',\n",
       " 'Tegner, Esaias',\n",
       " 'Ubaldino, Petruccio',\n",
       " 'Uzanne, Louis Octave',\n",
       " 'Veniero, Lorenzo']"
      ]
     },
     "execution_count": 1,
     "metadata": {},
     "output_type": "execute_result"
    }
   ],
   "source": [
    "from tt_gutenberg.authors import *\n",
    "\n",
    "list_authors(by_languages=True, alias=True)"
   ]
  }
 ],
 "metadata": {
  "kernelspec": {
   "display_name": "Python 3",
   "language": "python",
   "name": "python3"
  },
  "language_info": {
   "codemirror_mode": {
    "name": "ipython",
    "version": 3
   },
   "file_extension": ".py",
   "mimetype": "text/x-python",
   "name": "python",
   "nbconvert_exporter": "python",
   "pygments_lexer": "ipython3",
   "version": "3.11.9"
  }
 },
 "nbformat": 4,
 "nbformat_minor": 5
}
